{
 "cells": [
  {
   "cell_type": "code",
   "execution_count": 2,
   "id": "c44664f5",
   "metadata": {},
   "outputs": [],
   "source": [
    "import numpy as np\n",
    "import pandas as pd\n",
    "%matplotlib inline\n",
    "import matplotlib as mpl\n",
    "import matplotlib.pyplot as plt"
   ]
  },
  {
   "cell_type": "code",
   "execution_count": 3,
   "id": "0ceb8ffd",
   "metadata": {},
   "outputs": [],
   "source": [
    "import tensorflow as tf\n",
    "from tensorflow import keras"
   ]
  },
  {
   "cell_type": "code",
   "execution_count": 5,
   "id": "e52dfcf3",
   "metadata": {},
   "outputs": [
    {
     "data": {
      "text/plain": [
       "'2.6.0'"
      ]
     },
     "execution_count": 5,
     "metadata": {},
     "output_type": "execute_result"
    }
   ],
   "source": [
    "keras.__version__"
   ]
  },
  {
   "cell_type": "code",
   "execution_count": 6,
   "id": "979b62c1",
   "metadata": {},
   "outputs": [
    {
     "data": {
      "text/plain": [
       "'2.6.0'"
      ]
     },
     "execution_count": 6,
     "metadata": {},
     "output_type": "execute_result"
    }
   ],
   "source": [
    "tf.__version__"
   ]
  },
  {
   "cell_type": "code",
   "execution_count": 7,
   "id": "32834b48",
   "metadata": {},
   "outputs": [
    {
     "name": "stdout",
     "output_type": "stream",
     "text": [
      "Downloading data from https://storage.googleapis.com/tensorflow/tf-keras-datasets/train-labels-idx1-ubyte.gz\n",
      "32768/29515 [=================================] - 0s 0us/step\n",
      "40960/29515 [=========================================] - 0s 0us/step\n",
      "Downloading data from https://storage.googleapis.com/tensorflow/tf-keras-datasets/train-images-idx3-ubyte.gz\n",
      "26427392/26421880 [==============================] - 3s 0us/step\n",
      "26435584/26421880 [==============================] - 3s 0us/step\n",
      "Downloading data from https://storage.googleapis.com/tensorflow/tf-keras-datasets/t10k-labels-idx1-ubyte.gz\n",
      "16384/5148 [===============================================================================================] - 0s 0s/step\n",
      "Downloading data from https://storage.googleapis.com/tensorflow/tf-keras-datasets/t10k-images-idx3-ubyte.gz\n",
      "4423680/4422102 [==============================] - 1s 0us/step\n",
      "4431872/4422102 [==============================] - 1s 0us/step\n"
     ]
    }
   ],
   "source": [
    "#Importing Dataset\n",
    "fashion_mnist = keras.datasets.fashion_mnist\n",
    "(x_train_full,y_train_full),(x_test,y_test) = fashion_mnist.load_data()"
   ]
  },
  {
   "cell_type": "code",
   "execution_count": 8,
   "id": "0bfea0af",
   "metadata": {},
   "outputs": [
    {
     "data": {
      "text/plain": [
       "<matplotlib.image.AxesImage at 0x20b9f5f9dc0>"
      ]
     },
     "execution_count": 8,
     "metadata": {},
     "output_type": "execute_result"
    },
    {
     "data": {
      "image/png": "[encoded data removed]",
      "text/plain": [
       "<Figure size 432x288 with 1 Axes>"
      ]
     },
     "metadata": {
      "needs_background": "light"
     },
     "output_type": "display_data"
    }
   ],
   "source": [
    "plt.imshow(x_train_full[0]) #Accessing first image"
   ]
  },
  {
   "cell_type": "code",
   "execution_count": 9,
   "id": "13da6180",
   "metadata": {},
   "outputs": [
    {
     "data": {
      "text/plain": [
       "'T-shirt/top'"
      ]
     },
     "execution_count": 9,
     "metadata": {},
     "output_type": "execute_result"
    }
   ],
   "source": [
    "class_names=[\"T-shirt/top\",\"Trouser\",\"Pullover\",\"Dress\",\"Coat\",\"Sandal\",\"Shirt\",\"Sneaker\",\"Bag\",\"Ankle boot\"]\n",
    "class_names[y_train_full[1]]"
   ]
  },
  {
   "cell_type": "code",
   "execution_count": 10,
   "id": "56d87363",
   "metadata": {},
   "outputs": [],
   "source": [
    "#Data Normalisation\n",
    "x_train_n=x_train_full/255.    #Normalisisng pixel intensity\n",
    "x_test_n=x_test/255."
   ]
  },
  {
   "cell_type": "code",
   "execution_count": 11,
   "id": "b67f47de",
   "metadata": {},
   "outputs": [],
   "source": [
    "x_valid,x_train=x_train_n[:5000],x_train_n[5000:]    #0-5000 in validation set,5000-60000 in train set\n",
    "y_valid,y_train=y_train_full[:5000],y_train_full[5000:]\n",
    "x_test=x_test_n"
   ]
  },
  {
   "cell_type": "code",
   "execution_count": 12,
   "id": "b299022e",
   "metadata": {},
   "outputs": [],
   "source": [
    "#Replicate the same result everytime\n",
    "np.random.seed(42)\n",
    "tf.random.set_seed(42)"
   ]
  },
  {
   "cell_type": "code",
   "execution_count": 13,
   "id": "fb049bd2",
   "metadata": {},
   "outputs": [],
   "source": [
    "model = keras.models.Sequential()\n",
    "model.add(keras.layers.Flatten(input_shape=[28,28])) #Input Layer [28X28 pixels]\n",
    "model.add(keras.layers.Dense(300,activation=\"relu\")) #RELU is prefered in hidden layers in classification model\n",
    "model.add(keras.layers.Dense(100,activation=\"relu\")) #2 hidden layers, 100 and 300 are number of neurons\n",
    "model.add(keras.layers.Dense(10,activation=\"softmax\")) #Softmax activation in o/p"
   ]
  },
  {
   "cell_type": "code",
   "execution_count": 14,
   "id": "8cc49a47",
   "metadata": {},
   "outputs": [
    {
     "name": "stdout",
     "output_type": "stream",
     "text": [
      "Model: \"sequential\"\n",
      "_________________________________________________________________\n",
      "Layer (type)                 Output Shape              Param #   \n",
      "=================================================================\n",
      "flatten (Flatten)            (None, 784)               0         \n",
      "_________________________________________________________________\n",
      "dense (Dense)                (None, 300)               235500    \n",
      "_________________________________________________________________\n",
      "dense_1 (Dense)              (None, 100)               30100     \n",
      "_________________________________________________________________\n",
      "dense_2 (Dense)              (None, 10)                1010      \n",
      "=================================================================\n",
      "Total params: 266,610\n",
      "Trainable params: 266,610\n",
      "Non-trainable params: 0\n",
      "_________________________________________________________________\n"
     ]
    }
   ],
   "source": [
    "model.summary()"
   ]
  },
  {
   "cell_type": "code",
   "execution_count": 17,
   "id": "014efefa",
   "metadata": {},
   "outputs": [
    {
     "data": {
      "image/png": "[encoded data removed]",
      "text/plain": [
       "<IPython.core.display.Image object>"
      ]
     },
     "execution_count": 17,
     "metadata": {},
     "output_type": "execute_result"
    }
   ],
   "source": [
    "import pydot\n",
    "keras.utils.plot_model(model)"
   ]
  },
  {
   "cell_type": "code",
   "execution_count": 18,
   "id": "993937e4",
   "metadata": {},
   "outputs": [],
   "source": [
    "weights,biases = model.layers[1].get_weights()"
   ]
  },
  {
   "cell_type": "code",
   "execution_count": 19,
   "id": "2937d108",
   "metadata": {},
   "outputs": [
    {
     "data": {
      "text/plain": [
       "array([[ 0.02448617, -0.00877795, -0.02189048, ..., -0.02766046,\n",
       "         0.03859074, -0.06889391],\n",
       "       [ 0.00476504, -0.03105379, -0.0586676 , ...,  0.00602964,\n",
       "        -0.02763776, -0.04165364],\n",
       "       [-0.06189284, -0.06901957,  0.07102345, ..., -0.04238207,\n",
       "         0.07121518, -0.07331658],\n",
       "       ...,\n",
       "       [-0.03048757,  0.02155137, -0.05400612, ..., -0.00113463,\n",
       "         0.00228987,  0.05581069],\n",
       "       [ 0.07061854, -0.06960931,  0.07038955, ..., -0.00384101,\n",
       "         0.00034875,  0.02878492],\n",
       "       [-0.06022581,  0.01577859, -0.02585464, ..., -0.00527829,\n",
       "         0.00272203, -0.06793761]], dtype=float32)"
      ]
     },
     "execution_count": 19,
     "metadata": {},
     "output_type": "execute_result"
    }
   ],
   "source": [
    "weights"
   ]
  },
  {
   "cell_type": "code",
   "execution_count": 20,
   "id": "7b102c57",
   "metadata": {},
   "outputs": [],
   "source": [
    "#Compiling the model\n",
    "model.compile(loss=\"sparse_categorical_crossentropy\",optimizer=\"sgd\",metrics=[\"accuracy\"])"
   ]
  },
  {
   "cell_type": "code",
   "execution_count": 23,
   "id": "7f26f945",
   "metadata": {},
   "outputs": [
    {
     "name": "stdout",
     "output_type": "stream",
     "text": [
      "Epoch 1/30\n",
      "1719/1719 [==============================] - 8s 4ms/step - loss: 0.7237 - accuracy: 0.7644 - val_loss: 0.5207 - val_accuracy: 0.8234\n",
      "Epoch 2/30\n",
      "1719/1719 [==============================] - 7s 4ms/step - loss: 0.4843 - accuracy: 0.8318 - val_loss: 0.4345 - val_accuracy: 0.8538\n",
      "Epoch 3/30\n",
      "1719/1719 [==============================] - 7s 4ms/step - loss: 0.4393 - accuracy: 0.8454 - val_loss: 0.5332 - val_accuracy: 0.7980\n",
      "Epoch 4/30\n",
      "1719/1719 [==============================] - 7s 4ms/step - loss: 0.4125 - accuracy: 0.8564 - val_loss: 0.3917 - val_accuracy: 0.8640\n",
      "Epoch 5/30\n",
      "1719/1719 [==============================] - 7s 4ms/step - loss: 0.3942 - accuracy: 0.8617 - val_loss: 0.3752 - val_accuracy: 0.8688\n",
      "Epoch 6/30\n",
      "1719/1719 [==============================] - 7s 4ms/step - loss: 0.3754 - accuracy: 0.8676 - val_loss: 0.3715 - val_accuracy: 0.8726\n",
      "Epoch 7/30\n",
      "1719/1719 [==============================] - 7s 4ms/step - loss: 0.3635 - accuracy: 0.8713 - val_loss: 0.3620 - val_accuracy: 0.8720\n",
      "Epoch 8/30\n",
      "1719/1719 [==============================] - 7s 4ms/step - loss: 0.3520 - accuracy: 0.8751 - val_loss: 0.3850 - val_accuracy: 0.8620\n",
      "Epoch 9/30\n",
      "1719/1719 [==============================] - 7s 4ms/step - loss: 0.3417 - accuracy: 0.8786 - val_loss: 0.3592 - val_accuracy: 0.8698\n",
      "Epoch 10/30\n",
      "1719/1719 [==============================] - 7s 4ms/step - loss: 0.3324 - accuracy: 0.8820 - val_loss: 0.3422 - val_accuracy: 0.8784\n",
      "Epoch 11/30\n",
      "1719/1719 [==============================] - 7s 4ms/step - loss: 0.3243 - accuracy: 0.8834 - val_loss: 0.3435 - val_accuracy: 0.8782\n",
      "Epoch 12/30\n",
      "1719/1719 [==============================] - 8s 4ms/step - loss: 0.3151 - accuracy: 0.8866 - val_loss: 0.3303 - val_accuracy: 0.8832\n",
      "Epoch 13/30\n",
      "1719/1719 [==============================] - 7s 4ms/step - loss: 0.3082 - accuracy: 0.8893 - val_loss: 0.3261 - val_accuracy: 0.8888\n",
      "Epoch 14/30\n",
      "1719/1719 [==============================] - 7s 4ms/step - loss: 0.3025 - accuracy: 0.8915 - val_loss: 0.3402 - val_accuracy: 0.8776\n",
      "Epoch 15/30\n",
      "1719/1719 [==============================] - 7s 4ms/step - loss: 0.2949 - accuracy: 0.8938 - val_loss: 0.3211 - val_accuracy: 0.8850\n",
      "Epoch 16/30\n",
      "1719/1719 [==============================] - 7s 4ms/step - loss: 0.2894 - accuracy: 0.8969 - val_loss: 0.3089 - val_accuracy: 0.8898\n",
      "Epoch 17/30\n",
      "1719/1719 [==============================] - 8s 4ms/step - loss: 0.2841 - accuracy: 0.8978 - val_loss: 0.3543 - val_accuracy: 0.8728\n",
      "Epoch 18/30\n",
      "1719/1719 [==============================] - 7s 4ms/step - loss: 0.2782 - accuracy: 0.9001 - val_loss: 0.3139 - val_accuracy: 0.8900\n",
      "Epoch 19/30\n",
      "1719/1719 [==============================] - 7s 4ms/step - loss: 0.2730 - accuracy: 0.9021 - val_loss: 0.3117 - val_accuracy: 0.8902\n",
      "Epoch 20/30\n",
      "1719/1719 [==============================] - 6s 4ms/step - loss: 0.2675 - accuracy: 0.9035 - val_loss: 0.3267 - val_accuracy: 0.8830\n",
      "Epoch 21/30\n",
      "1719/1719 [==============================] - 7s 4ms/step - loss: 0.2625 - accuracy: 0.9059 - val_loss: 0.3064 - val_accuracy: 0.8922\n",
      "Epoch 22/30\n",
      "1719/1719 [==============================] - 7s 4ms/step - loss: 0.2577 - accuracy: 0.9075 - val_loss: 0.2969 - val_accuracy: 0.8966\n",
      "Epoch 23/30\n",
      "1719/1719 [==============================] - 7s 4ms/step - loss: 0.2536 - accuracy: 0.9083 - val_loss: 0.2982 - val_accuracy: 0.8928\n",
      "Epoch 24/30\n",
      "1719/1719 [==============================] - 7s 4ms/step - loss: 0.2487 - accuracy: 0.9101 - val_loss: 0.3078 - val_accuracy: 0.8882\n",
      "Epoch 25/30\n",
      "1719/1719 [==============================] - 7s 4ms/step - loss: 0.2444 - accuracy: 0.9121 - val_loss: 0.2983 - val_accuracy: 0.8952\n",
      "Epoch 26/30\n",
      "1719/1719 [==============================] - 7s 4ms/step - loss: 0.2407 - accuracy: 0.9133 - val_loss: 0.3055 - val_accuracy: 0.8896\n",
      "Epoch 27/30\n",
      "1719/1719 [==============================] - 7s 4ms/step - loss: 0.2364 - accuracy: 0.9151 - val_loss: 0.3004 - val_accuracy: 0.8944\n",
      "Epoch 28/30\n",
      "1719/1719 [==============================] - 7s 4ms/step - loss: 0.2328 - accuracy: 0.9168 - val_loss: 0.2988 - val_accuracy: 0.8942\n",
      "Epoch 29/30\n",
      "1719/1719 [==============================] - 7s 4ms/step - loss: 0.2286 - accuracy: 0.9186 - val_loss: 0.3034 - val_accuracy: 0.8902\n",
      "Epoch 30/30\n",
      "1719/1719 [==============================] - 8s 4ms/step - loss: 0.2252 - accuracy: 0.9191 - val_loss: 0.3042 - val_accuracy: 0.8938\n"
     ]
    }
   ],
   "source": [
    "model_history = model.fit(x_train,y_train,epochs=30,validation_data=(x_valid,y_valid))"
   ]
  },
  {
   "cell_type": "code",
   "execution_count": 24,
   "id": "75c5bf12",
   "metadata": {},
   "outputs": [
    {
     "data": {
      "text/plain": [
       "{'verbose': 1, 'epochs': 30, 'steps': 1719}"
      ]
     },
     "execution_count": 24,
     "metadata": {},
     "output_type": "execute_result"
    }
   ],
   "source": [
    "model_history.params"
   ]
  },
  {
   "cell_type": "code",
   "execution_count": 25,
   "id": "afddd04f",
   "metadata": {},
   "outputs": [
    {
     "data": {
      "text/plain": [
       "{'loss': [0.7236780524253845,\n",
       "  0.48432329297065735,\n",
       "  0.43926575779914856,\n",
       "  0.41254061460494995,\n",
       "  0.39415401220321655,\n",
       "  0.37537190318107605,\n",
       "  0.3634667992591858,\n",
       "  0.3519733250141144,\n",
       "  0.34173864126205444,\n",
       "  0.3324226140975952,\n",
       "  0.32434672117233276,\n",
       "  0.315105140209198,\n",
       "  0.3082481324672699,\n",
       "  0.30250445008277893,\n",
       "  0.29487884044647217,\n",
       "  0.28935888409614563,\n",
       "  0.2840943932533264,\n",
       "  0.2781604528427124,\n",
       "  0.2729814350605011,\n",
       "  0.2674770653247833,\n",
       "  0.26250433921813965,\n",
       "  0.2576865255832672,\n",
       "  0.253560870885849,\n",
       "  0.24866965413093567,\n",
       "  0.24443283677101135,\n",
       "  0.24068966507911682,\n",
       "  0.23636707663536072,\n",
       "  0.23279036581516266,\n",
       "  0.22856011986732483,\n",
       "  0.225218266248703],\n",
       " 'accuracy': [0.7644181847572327,\n",
       "  0.8317636251449585,\n",
       "  0.8453999757766724,\n",
       "  0.8564000129699707,\n",
       "  0.8617091178894043,\n",
       "  0.867581844329834,\n",
       "  0.8713454604148865,\n",
       "  0.8751272559165955,\n",
       "  0.878636360168457,\n",
       "  0.8820000290870667,\n",
       "  0.883400022983551,\n",
       "  0.8865818381309509,\n",
       "  0.8892727494239807,\n",
       "  0.8915272951126099,\n",
       "  0.893818199634552,\n",
       "  0.8968726992607117,\n",
       "  0.8977817893028259,\n",
       "  0.9000545740127563,\n",
       "  0.9021090865135193,\n",
       "  0.9035454392433167,\n",
       "  0.9059090614318848,\n",
       "  0.9074727296829224,\n",
       "  0.9083272814750671,\n",
       "  0.9101272821426392,\n",
       "  0.9120727181434631,\n",
       "  0.9132909178733826,\n",
       "  0.9151454567909241,\n",
       "  0.9168000221252441,\n",
       "  0.9185818433761597,\n",
       "  0.9190909266471863],\n",
       " 'val_loss': [0.5206756591796875,\n",
       "  0.4345036745071411,\n",
       "  0.5331909656524658,\n",
       "  0.391650915145874,\n",
       "  0.37520116567611694,\n",
       "  0.37151864171028137,\n",
       "  0.36200058460235596,\n",
       "  0.3850135803222656,\n",
       "  0.3591846823692322,\n",
       "  0.34221988916397095,\n",
       "  0.3434883654117584,\n",
       "  0.3303460478782654,\n",
       "  0.3260728120803833,\n",
       "  0.34015268087387085,\n",
       "  0.3210984468460083,\n",
       "  0.3089308738708496,\n",
       "  0.35434141755104065,\n",
       "  0.3139408826828003,\n",
       "  0.31171783804893494,\n",
       "  0.3267008066177368,\n",
       "  0.306363582611084,\n",
       "  0.2969263792037964,\n",
       "  0.29818207025527954,\n",
       "  0.30784472823143005,\n",
       "  0.298267662525177,\n",
       "  0.3055400252342224,\n",
       "  0.3004244565963745,\n",
       "  0.29880407452583313,\n",
       "  0.3034486770629883,\n",
       "  0.3042454123497009],\n",
       " 'val_accuracy': [0.8234000205993652,\n",
       "  0.8537999987602234,\n",
       "  0.7979999780654907,\n",
       "  0.8640000224113464,\n",
       "  0.8687999844551086,\n",
       "  0.8726000189781189,\n",
       "  0.871999979019165,\n",
       "  0.8619999885559082,\n",
       "  0.8697999715805054,\n",
       "  0.8784000277519226,\n",
       "  0.8781999945640564,\n",
       "  0.8831999897956848,\n",
       "  0.8888000249862671,\n",
       "  0.8776000142097473,\n",
       "  0.8849999904632568,\n",
       "  0.8898000121116638,\n",
       "  0.8727999925613403,\n",
       "  0.8899999856948853,\n",
       "  0.8902000188827515,\n",
       "  0.8830000162124634,\n",
       "  0.8921999931335449,\n",
       "  0.8966000080108643,\n",
       "  0.892799973487854,\n",
       "  0.8881999850273132,\n",
       "  0.8952000141143799,\n",
       "  0.8895999789237976,\n",
       "  0.8944000005722046,\n",
       "  0.8942000269889832,\n",
       "  0.8902000188827515,\n",
       "  0.8938000202178955]}"
      ]
     },
     "execution_count": 25,
     "metadata": {},
     "output_type": "execute_result"
    }
   ],
   "source": [
    "model_history.history"
   ]
  },
  {
   "cell_type": "code",
   "execution_count": 26,
   "id": "54119ee4",
   "metadata": {},
   "outputs": [
    {
     "data": {
      "image/png": "[encoded data removed]",
      "text/plain": [
       "<Figure size 576x360 with 1 Axes>"
      ]
     },
     "metadata": {
      "needs_background": "light"
     },
     "output_type": "display_data"
    }
   ],
   "source": [
    "pd.DataFrame(model_history.history).plot(figsize=(8,5))\n",
    "plt.grid(True)\n",
    "plt.gca().set_ylim(0,1)\n",
    "plt.show()"
   ]
  },
  {
   "cell_type": "code",
   "execution_count": 27,
   "id": "bf1fa5e1",
   "metadata": {},
   "outputs": [
    {
     "name": "stdout",
     "output_type": "stream",
     "text": [
      "313/313 [==============================] - 1s 3ms/step - loss: 0.3384 - accuracy: 0.8830\n"
     ]
    },
    {
     "data": {
      "text/plain": [
       "[0.3383956849575043, 0.8830000162124634]"
      ]
     },
     "execution_count": 27,
     "metadata": {},
     "output_type": "execute_result"
    }
   ],
   "source": [
    "#Evaluating\n",
    "model.evaluate(x_test,y_test)"
   ]
  },
  {
   "cell_type": "code",
   "execution_count": 28,
   "id": "5b3b828a",
   "metadata": {},
   "outputs": [],
   "source": [
    "x_new=x_test[:3]"
   ]
  },
  {
   "cell_type": "code",
   "execution_count": 29,
   "id": "958fc1ce",
   "metadata": {},
   "outputs": [
    {
     "data": {
      "text/plain": [
       "array([[0.  , 0.  , 0.  , 0.  , 0.  , 0.01, 0.  , 0.03, 0.  , 0.96],\n",
       "       [0.  , 0.  , 0.98, 0.  , 0.02, 0.  , 0.  , 0.  , 0.  , 0.  ],\n",
       "       [0.  , 1.  , 0.  , 0.  , 0.  , 0.  , 0.  , 0.  , 0.  , 0.  ]],\n",
       "      dtype=float32)"
      ]
     },
     "execution_count": 29,
     "metadata": {},
     "output_type": "execute_result"
    }
   ],
   "source": [
    "y_proba=model.predict(x_new)\n",
    "y_proba.round(2)"
   ]
  },
  {
   "cell_type": "code",
   "execution_count": 33,
   "id": "5cd499bb",
   "metadata": {},
   "outputs": [
    {
     "ename": "AttributeError",
     "evalue": "'Sequential' object has no attribute 'predict_classes'",
     "output_type": "error",
     "traceback": [
      "\u001b[1;31m---------------------------------------------------------------------------\u001b[0m",
      "\u001b[1;31mAttributeError\u001b[0m                            Traceback (most recent call last)",
      "\u001b[1;32m<ipython-input-33-1c35a93acfac>\u001b[0m in \u001b[0;36m<module>\u001b[1;34m\u001b[0m\n\u001b[1;32m----> 1\u001b[1;33m \u001b[0my_pred\u001b[0m\u001b[1;33m=\u001b[0m\u001b[0mmodel\u001b[0m\u001b[1;33m.\u001b[0m\u001b[0mpredict_classes\u001b[0m\u001b[1;33m(\u001b[0m\u001b[0mx_new\u001b[0m\u001b[1;33m)\u001b[0m\u001b[1;33m\u001b[0m\u001b[1;33m\u001b[0m\u001b[0m\n\u001b[0m\u001b[0;32m      2\u001b[0m \u001b[0my_pred\u001b[0m\u001b[1;33m\u001b[0m\u001b[1;33m\u001b[0m\u001b[0m\n",
      "\u001b[1;31mAttributeError\u001b[0m: 'Sequential' object has no attribute 'predict_classes'"
     ]
    }
   ],
   "source": [
    "y_pred=model.predict_classes(x_new)\n",
    "y_pred"
   ]
  },
  {
   "cell_type": "code",
   "execution_count": 35,
   "id": "27dc9f24",
   "metadata": {},
   "outputs": [
    {
     "name": "stdout",
     "output_type": "stream",
     "text": [
      "AxesImage(54,36;334.8x217.44)\n"
     ]
    },
    {
     "data": {
      "image/png": "[encoded data removed]",
      "text/plain": [
       "<Figure size 432x288 with 1 Axes>"
      ]
     },
     "metadata": {
      "needs_background": "light"
     },
     "output_type": "display_data"
    }
   ],
   "source": [
    "print(plt.imshow(x_test[0]))"
   ]
  },
  {
   "cell_type": "code",
   "execution_count": null,
   "id": "b0181448",
   "metadata": {},
   "outputs": [],
   "source": []
  }
 ],
 "metadata": {
  "kernelspec": {
   "display_name": "Python 3",
   "language": "python",
   "name": "python3"
  },
  "language_info": {
   "codemirror_mode": {
    "name": "ipython",
    "version": 3
   },
   "file_extension": ".py",
   "mimetype": "text/x-python",
   "name": "python",
   "nbconvert_exporter": "python",
   "pygments_lexer": "ipython3",
   "version": "3.9.2"
  }
 },
 "nbformat": 4,
 "nbformat_minor": 5
}
